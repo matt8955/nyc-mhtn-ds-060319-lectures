{
 "cells": [
  {
   "cell_type": "markdown",
   "metadata": {},
   "source": [
    "# Dictionaryball"
   ]
  },
  {
   "cell_type": "markdown",
   "metadata": {},
   "source": [
    "## Instructions\n",
    "\n",
    "Great news! You're going to an NBA game. The only catch is that you've been volunteered to keep stats at the game.\n",
    "Fork and clone this lab and run the test suite to get started. You'll be coding your solution in `dictionaryball.py`."
   ]
  },
  {
   "cell_type": "markdown",
   "metadata": {},
   "source": [
    "## Objectives\n",
    "1. Practice building nested dictionaries\n",
    "2. Practice iterating over nested dictionaries and lists"
   ]
  },
  {
   "cell_type": "markdown",
   "metadata": {},
   "source": [
    "### Part 1: Building the Dictionary\n",
    "\n",
    "The first step is to build the dictionary itself! (If you're comfortable with dictionaries and don't want to manual create a dictionary - it is available in dictionary.py) We will need to assign the dictionary to a variable, let's call it `game_dictionary`. This nested dictionary should be constructed in the following manner:\n",
    "\n",
    "* The top level of the dictionary has two keys: `home`, for the home team, and `away`, for the away team.\n",
    "* The values of the `home` and `away` keys are dictionaries. These dictionaries have the following keys:\n",
    "  * `team_name`\n",
    "  * `colors`\n",
    "  * `players`\n",
    "  \n",
    "\n",
    "* The `team_name` key points to a string of the team name.\n",
    "* The `colors` key points to a list of strings that are that team's colors.\n",
    "* The `players` key points to a dictionary of players whose names (as strings) are the keys to a dictionary containing their stats. The values for each player's names and their stats can be found in the table below. The stats keys should be formatted like this:\n",
    "    * `number`\n",
    "    * `shoe`\n",
    "    * `points`\n",
    "    * `rebounds`\n",
    "    * `assists`\n",
    "    * `steals`\n",
    "    * `blocks`\n",
    "    * `slam_dunks`"
   ]
  },
  {
   "cell_type": "markdown",
   "metadata": {},
   "source": [
    "Use the following data to populate your `game_dictionary` as outlined above.\n",
    "\n",
    "Home Team:\n",
    "\n",
    "* team name: Brooklyn Nets\n",
    "* colors: Black, White\n",
    "* players:\n",
    "\n",
    "\n",
    "|          Stat          | Info | Info |  Info | Info | Info   |\n",
    "|:------------------:|:-------------:|:------------:|:------------:|:-------------:|:-------------:|\n",
    "| **Player Name**    |  Alan Anderson| Reggie Evans | Brook Lopez  | Mason Plumlee | Jason Terry   |\n",
    "| **Number**         | 0             | 30           | 11           | 1             | 31            |\n",
    "| **Shoe**           | 16            | 14           | 17           | 19            | 15            |\n",
    "| **Points**         | 22            | 12           | 17           | 26            | 19            |\n",
    "| **Rebounds**       | 12            | 12           | 19           | 12            | 2             |\n",
    "| **Assists**        | 12            | 12           | 10           | 6             | 2             |\n",
    "| **Steals**         | 3             | 12           | 3            | 3             | 4             |\n",
    "| **Blocks**         | 1             | 12           | 1            | 8             | 11            |\n",
    "| **Slam Dunks**     | 1             | 7            | 15           | 5             | 1             |\n",
    "\n",
    "\n",
    "Away Team:\n",
    "\n",
    "* team name: Charlotte Hornets\n",
    "* colors: Turquoise, Purple\n",
    "* players:\n",
    "\n",
    "|        Stat       |     Info          |         Info     |              Info |         Info     |         Info      |               \n",
    "|:------------------:|:-----------------:|:-----------------:|:-----------------:|:---------------:|:-----------------:|\n",
    "| **Player Name**  | Jeff Adrien     | Bismak Biyombo    | DeSagna Diop      | Ben Gordon      | Brendan Haywood   |\n",
    "| **Number**         | 4                 | 0                 | 2                 | 8               | 33                |\n",
    "| **Shoe**           | 18                | 16                | 14                | 15              | 15                |\n",
    "| **Points**         | 10                | 12                | 24                | 33              | 6                 |\n",
    "| **Rebounds**       | 1                 | 4                 | 12                | 3               | 12                |\n",
    "| **Assists**        | 1                 | 7                 | 12                | 2               | 12                |\n",
    "| **Steals**         | 2                 | 7                 | 4                 | 1               | 22                |\n",
    "| **Blocks**         | 7                 | 15                | 5                 | 1               | 5                 |\n",
    "| **Slam Dunks**     | 2                 | 10                | 5                 | 0               | 12                |"
   ]
  },
  {
   "cell_type": "markdown",
   "metadata": {},
   "source": [
    "### Step 2: Building Functions"
   ]
  },
  {
   "cell_type": "markdown",
   "metadata": {},
   "source": [
    "### Calling Functions within Functions\n",
    "\n",
    "You'll be building a series of functions that operate on the above game dictionary to return certain information about the teams and players. Each function will operate on the game dictionary by referencing the `game_dict` function. \n",
    "\n",
    "For example, let's say we want to build a function, `home_team_name`, that returns the name of the home team, `\"Brooklyn Nets\"`. We can call the function `game_dict` inside of our `home_team_name` function and operate on the game_dict:\n",
    "\n",
    "```python\n",
    "def home_team_name():\n",
    "  return game_dict()['home']['team_name']\n",
    "\n",
    "print(home_team_name()) # \"Brooklyn Nets\"\n",
    "```\n",
    "\n",
    "Now that we understand how we are going to operate on the `game_dict` inside of the functions we're building, let's build those functions:"
   ]
  },
  {
   "cell_type": "code",
   "execution_count": null,
   "metadata": {},
   "outputs": [],
   "source": []
  },
  {
   "cell_type": "markdown",
   "metadata": {},
   "source": [
    "### Iterating through Nested Levels:\n",
    "\n",
    "This lab requires us to iterate through the many levels of our nested dictionary. **Don't take your understanding of your dictionary for granted.** Every time you iterate into a new level of the dictionary, immediately place a `import pdb; pdb.set_trace()` there. Then, run your function to see what the key/value pairs of that dictionary are.\n",
    "\n",
    "> **hint:** to run the function, call it at the bottom of your file and run the file from your terminal with the following command: `python dictionaryball.py`\n",
    "\n",
    "Let's take a look at an example:\n",
    "\n",
    "```python\n",
    "def good_practices():\n",
    "  for location, team_stats in game_dict().items():\n",
    "    # are you ABSOLUTELY SURE what 'location' and 'team_stats' are? use pdb.set_trace() to find out!\n",
    "    import pdb; pdb.set_trace()\n",
    "      for stats, data in team_stats.items():\n",
    "        # are you ABSOLUTELY SURE what 'stats' and 'data' are? use pdb.set_trace() to find out!\n",
    "        import pdb; pdb.set_trace()\n",
    "        # what is 'data' at each level of the for loop block? when will we be able to iterate through a list? \n",
    "        # When would the following line of code break?\n",
    "        for item in data:\n",
    "            print(item)\n",
    "```\n",
    "\n",
    "Open up the `dictionaryball.py` and copy and paste the above function. Then, at the bottom of the file, call the function (`good_practices()`) and, in your terminal, run the file with `python dictionaryball.py`. Play around with the values at each level of the function until you get comfortable with the iteration. To continue to the next pdb trace, you can enter `c` in your terminal. This practice should give you a stronger sense of how we iterate through so many levels of a nested dictionary and what happens on each level. If you find yourself getting stuck in building out other functions, try using this method of adding in pdb traces to check the values of your for loop variables.\n",
    "\n",
    "Okay, ***now*** we're ready to build out functions:"
   ]
  },
  {
   "cell_type": "code",
   "execution_count": 1,
   "metadata": {},
   "outputs": [],
   "source": [
    "from dictionaryball import *"
   ]
  },
  {
   "cell_type": "code",
   "execution_count": 2,
   "metadata": {},
   "outputs": [
    {
     "data": {
      "text/plain": [
       "'Brooklyn†l Nets'"
      ]
     },
     "execution_count": 2,
     "metadata": {},
     "output_type": "execute_result"
    }
   ],
   "source": [
    "game_dict['home']['team_name']"
   ]
  },
  {
   "cell_type": "code",
   "execution_count": 3,
   "metadata": {},
   "outputs": [],
   "source": [
    "def num_points_scored(name):\n",
    "    for line in game_dict: \n",
    "        if name in game_dict['home']['players'].keys():\n",
    "            return game_dict['home']['players'][name]['points']\n",
    "        else:\n",
    "            return game_dict['away']['players'][name]['points']\n",
    "\n",
    "def shoe_size(name):\n",
    "    for line in game_dict: \n",
    "        if name in game_dict['home']['players'].keys():\n",
    "            return game_dict['home']['players'][name]['shoe']\n",
    "        else:\n",
    "            return game_dict['away']['players'][name]['shoe']\n",
    "        \n",
    "def team_colors(team):\n",
    "    for line in game_dict:\n",
    "        if team in game_dict['home']['team_name']:\n",
    "            return game_dict['home']['colors']\n",
    "        else:\n",
    "            return game_dict['away']['colors']\n",
    "\n",
    "def team_names():\n",
    "    team_names = []\n",
    "    for team in game_dict.keys():\n",
    "        team_names.append(game_dict[team]['team_name'])\n",
    "    return team_names\n",
    "\n",
    "def player_numbers(team):\n",
    "    numbers = []\n",
    "    if team in game_dict['home']['team_name']:\n",
    "        for player in game_dict['home']['players'].values():\n",
    "            numbers.append(player['number'])\n",
    "    else:\n",
    "        for player in game_dict['away']['players'].values():\n",
    "            numbers.append(player['number'])\n",
    "    return numbers\n",
    "    \n",
    "def player_stats(name):\n",
    "    for line in game_dict:\n",
    "        if name in game_dict['home']['players']:\n",
    "            return game_dict['home']['players'][name]\n",
    "        else:\n",
    "            return game_dict['away']['players'][name]\n",
    "\n",
    "def big_shoe_rebounds():\n",
    "    players = []\n",
    "    for team in game_dict.keys():\n",
    "        for key in game_dict[team]['players'].keys():\n",
    "            players.append(key)\n",
    "    size = 0\n",
    "    name = ''\n",
    "    for player in players:\n",
    "        temp = shoe_size(player)\n",
    "        if temp > size:\n",
    "            size = temp\n",
    "            name = player\n",
    "    \n",
    "    player_stat = player_stats(name)\n",
    "    return player_stat['rebounds']\n",
    "    "
   ]
  },
  {
   "cell_type": "code",
   "execution_count": 4,
   "metadata": {},
   "outputs": [
    {
     "data": {
      "text/plain": [
       "12"
      ]
     },
     "execution_count": 4,
     "metadata": {},
     "output_type": "execute_result"
    }
   ],
   "source": [
    "# game_dict['home']['players'].keys()\n",
    "big_shoe_rebounds()"
   ]
  },
  {
   "cell_type": "code",
   "execution_count": 5,
   "metadata": {},
   "outputs": [
    {
     "name": "stdout",
     "output_type": "stream",
     "text": [
      "{'Jeff Adrien': {'number': 4, 'shoe': 18, 'points': 10, 'rebounds': 1, 'assists': 1, 'steals': 2, 'blocks': 7, 'slam_dunks': 2}, 'Bismak Biyombo': {'number': 0, 'shoe': 16, 'points': 12, 'rebounds': 4, 'assists': 7, 'steals': 7, 'blocks': 15, 'slam_dunks': 10}, 'DeSagna Diop': {'number': 2, 'shoe': 14, 'points': 24, 'rebounds': 12, 'assists': 12, 'steals': 4, 'blocks': 5, 'slam_dunks': 5}, 'Ben Gordon': {'number': 8, 'shoe': 15, 'points': 33, 'rebounds': 3, 'assists': 2, 'steals': 1, 'blocks': 1, 'slam_dunks': 0}, 'Brendan Haywood': {'number': 33, 'shoe': 15, 'points': 6, 'rebounds': 12, 'assists': 12, 'steals': 22, 'blocks': 5, 'slam_dunks': 12}}\n"
     ]
    }
   ],
   "source": [
    "x = game_dict['home']['players'] and game_dict['away']['players']\n",
    "print (x)"
   ]
  },
  {
   "cell_type": "code",
   "execution_count": 6,
   "metadata": {},
   "outputs": [
    {
     "data": {
      "text/plain": [
       "dict_keys(['Alan Anderson', 'Reggie Evans', 'Brook Lopez', 'Mason Plumlee', 'Jason Terry'])"
      ]
     },
     "execution_count": 6,
     "metadata": {},
     "output_type": "execute_result"
    }
   ],
   "source": [
    "game_dict['home']['players'].keys()"
   ]
  },
  {
   "cell_type": "markdown",
   "metadata": {},
   "source": [
    "### Function Building\n",
    "\n",
    "* Build a function, `num_points_scored` that takes in an argument of a player's name and returns the number of points scored for that player.\n",
    "  * Think about where in the dictionary you will find a player's `points`. How can you iterate down into that level? Think about the return value of your function.\n",
    "\n",
    "* Build a function, `shoe_size`, that takes in an argument of a player's name and returns the shoe size for that player.\n",
    "  * Think about how you will find the shoe size of the correct player. How can you check and see if a player's name matches the name that has been passed into the function as an argument?\n",
    "  \n",
    "* Build a function, `team_colors`, that takes in an argument of the team name and returns a list of that teams colors.\n",
    "\n",
    "* Build a function, `team_names`, that operates on the game dictionary to return a list of the team names.\n",
    "\n",
    "* Build a function, `player_numbers`, that takes in an argument of a team name and returns a list of the jersey number's for that team.\n",
    "\n",
    "* Build a function, `player_stats`, that takes in an argument of a player's name and returns a dictionary of that player's stats.\n",
    "  * Check out the following example of the expected return value of the `player_stats` function:\n",
    "\n",
    "```python\n",
    "player_stats(\"Alan Anderson\")\n",
    "# {'number': 0, 'shoe': 16, 'points': 22, 'rebounds': 12, 'assists': 12, 'steals': 3, 'blocks': 1, 'slam_dunks': 1}\n",
    "```\n",
    "\n",
    "* Build a function, `big_shoe_rebounds`, that will return the number of rebounds associated with the player that has the largest shoe size. Break this one down into steps:\n",
    "  * First, find the player with the largest shoe size\n",
    "  * Then, return that player's number of rebounds\n",
    "  * Remember to think about return values here. Use pdb traces to drop into your function and understand what it is returning and why."
   ]
  },
  {
   "cell_type": "code",
   "execution_count": null,
   "metadata": {},
   "outputs": [],
   "source": []
  },
  {
   "cell_type": "markdown",
   "metadata": {},
   "source": [
    "> **hint:** If you find yourself repeating code from one function to the next, that is a good time to create a `helper function` that does just that one job for you. Then you can call that helper function in another function instead of re-writing the code you need."
   ]
  },
  {
   "cell_type": "markdown",
   "metadata": {},
   "source": [
    "## Bonus"
   ]
  },
  {
   "cell_type": "markdown",
   "metadata": {},
   "source": [
    "Define functions to return the answer to the following questions:\n",
    "\n",
    "1. Which player has the most points? Call the function `most_points_scored`.\n",
    "\n",
    "2. Which team has the most points? Call the function `winning_team`.\n",
    "\n",
    "3. Which player has the longest name? Call the function `player_with_longest_name`.\n",
    "\n",
    "**Super Bonus:**\n",
    "\n",
    "1. Write a function that returns true if the player with the longest name had the most steals. Call the function `long_name_steals_a_ton?`."
   ]
  },
  {
   "cell_type": "code",
   "execution_count": 60,
   "metadata": {},
   "outputs": [
    {
     "data": {
      "text/plain": [
       "'Reggie Evans'"
      ]
     },
     "execution_count": 60,
     "metadata": {},
     "output_type": "execute_result"
    }
   ],
   "source": [
    "# def most_points_scored():\n",
    "#     players = []\n",
    "#     for team in game_dict.keys():\n",
    "#         for key in game_dict[team]['players'].keys():\n",
    "#             players.append(key)\n",
    "#     size = 0\n",
    "#     name = ''\n",
    "#     for player in players:\n",
    "#         temp = most_points(player)\n",
    "#         if temp > size:\n",
    "#             size = temp\n",
    "#             name = player\n",
    "    \n",
    "\n",
    "def winning_team():\n",
    "    home_team = game_dict['home']['players'].keys()\n",
    "    away_team = game_dict['away']['players'].keys()\n",
    "    score_home = sum([num_points_scored(x) for x in home_team])\n",
    "    score_away = sum([num_points_scored(x) for x in away_team])\n",
    "    if score_home > score_away:\n",
    "        return game_dict['home']['team_name']\n",
    "    else:\n",
    "        return game_dict['away']['team_name']\n",
    "\n",
    "def player_with_longest_name():\n",
    "    players = []\n",
    "    for side in game_dict.keys():\n",
    "        for player in game_dict[side]['players'].keys():\n",
    "            players.append(player)\n",
    "    return max(players)\n"
   ]
  },
  {
   "cell_type": "code",
   "execution_count": 48,
   "metadata": {},
   "outputs": [
    {
     "data": {
      "text/plain": [
       "['Alan Anderson',\n",
       " 'Reggie Evans',\n",
       " 'Brook Lopez',\n",
       " 'Mason Plumlee',\n",
       " 'Jason Terry',\n",
       " 'Jeff Adrien',\n",
       " 'Bismak Biyombo',\n",
       " 'DeSagna Diop',\n",
       " 'Ben Gordon',\n",
       " 'Brendan Haywood']"
      ]
     },
     "execution_count": 48,
     "metadata": {},
     "output_type": "execute_result"
    }
   ],
   "source": [
    "def get_all_players():\n",
    "    'returns a list of players home and away'\n",
    "    players = []\n",
    "    for side in game_dict.keys():\n",
    "        for player in game_dict[side]['players'].keys():\n",
    "            players.append(player)\n",
    "    return players\n"
   ]
  },
  {
   "cell_type": "code",
   "execution_count": 53,
   "metadata": {},
   "outputs": [
    {
     "data": {
      "text/plain": [
       "{'number': 0,\n",
       " 'shoe': 16,\n",
       " 'points': 22,\n",
       " 'rebounds': 12,\n",
       " 'assists': 12,\n",
       " 'steals': 3,\n",
       " 'blocks': 1,\n",
       " 'slam_dunks': 1}"
      ]
     },
     "execution_count": 53,
     "metadata": {},
     "output_type": "execute_result"
    }
   ],
   "source": [
    "game_dict['home']['players']['Alan Anderson']"
   ]
  },
  {
   "cell_type": "code",
   "execution_count": 50,
   "metadata": {},
   "outputs": [],
   "source": [
    "def long_name_steals_a_ton():\n",
    "    all_players = []\n",
    "    all_players = get_all_players()\n",
    "    print(all_players)\n",
    "    #find player with longest name\n",
    "    longest_name = max(all_players)\n",
    "\n",
    "    #find player with most steals\n",
    "    most_steals = 0\n",
    "    player_most_steals = ''\n",
    "    for side in game_dict.keys():\n",
    "        for player in game_dict[side]['players']:\n",
    "            if game_dict[side]['player'][]['steals'] > most_steals:\n",
    "                most_steals = game_dict[side]['player'][steals]\n",
    "                player_most_steals = player\n",
    "    \n",
    "    if player_most_steals == longest_name:\n",
    "        return true\n",
    "    else:\n",
    "        return false   \n",
    "        "
   ]
  },
  {
   "cell_type": "code",
   "execution_count": 49,
   "metadata": {},
   "outputs": [
    {
     "name": "stdout",
     "output_type": "stream",
     "text": [
      "['Alan Anderson', 'Reggie Evans', 'Brook Lopez', 'Mason Plumlee', 'Jason Terry', 'Jeff Adrien', 'Bismak Biyombo', 'DeSagna Diop', 'Ben Gordon', 'Brendan Haywood']\n"
     ]
    },
    {
     "ename": "KeyError",
     "evalue": "'steals'",
     "output_type": "error",
     "traceback": [
      "\u001b[0;31m---------------------------------------------------------------------------\u001b[0m",
      "\u001b[0;31mKeyError\u001b[0m                                  Traceback (most recent call last)",
      "\u001b[0;32m<ipython-input-49-8d4ac373f0f8>\u001b[0m in \u001b[0;36m<module>\u001b[0;34m\u001b[0m\n\u001b[0;32m----> 1\u001b[0;31m \u001b[0mlong_name_steals_a_ton\u001b[0m\u001b[0;34m(\u001b[0m\u001b[0;34m)\u001b[0m\u001b[0;34m\u001b[0m\u001b[0;34m\u001b[0m\u001b[0m\n\u001b[0m",
      "\u001b[0;32m<ipython-input-39-8e1c5fe1ad5e>\u001b[0m in \u001b[0;36mlong_name_steals_a_ton\u001b[0;34m()\u001b[0m\n\u001b[1;32m     11\u001b[0m     \u001b[0;32mfor\u001b[0m \u001b[0mside\u001b[0m \u001b[0;32min\u001b[0m \u001b[0mgame_dict\u001b[0m\u001b[0;34m.\u001b[0m\u001b[0mkeys\u001b[0m\u001b[0;34m(\u001b[0m\u001b[0;34m)\u001b[0m\u001b[0;34m:\u001b[0m\u001b[0;34m\u001b[0m\u001b[0;34m\u001b[0m\u001b[0m\n\u001b[1;32m     12\u001b[0m         \u001b[0;32mfor\u001b[0m \u001b[0mplayer\u001b[0m \u001b[0;32min\u001b[0m \u001b[0mgame_dict\u001b[0m\u001b[0;34m[\u001b[0m\u001b[0mside\u001b[0m\u001b[0;34m]\u001b[0m\u001b[0;34m[\u001b[0m\u001b[0;34m'players'\u001b[0m\u001b[0;34m]\u001b[0m\u001b[0;34m:\u001b[0m\u001b[0;34m\u001b[0m\u001b[0;34m\u001b[0m\u001b[0m\n\u001b[0;32m---> 13\u001b[0;31m             \u001b[0;32mif\u001b[0m \u001b[0mgame_dict\u001b[0m\u001b[0;34m[\u001b[0m\u001b[0mside\u001b[0m\u001b[0;34m]\u001b[0m\u001b[0;34m[\u001b[0m\u001b[0;34m'players'\u001b[0m\u001b[0;34m]\u001b[0m\u001b[0;34m[\u001b[0m\u001b[0;34m'steals'\u001b[0m\u001b[0;34m]\u001b[0m \u001b[0;34m>\u001b[0m \u001b[0mmost_steals\u001b[0m\u001b[0;34m:\u001b[0m\u001b[0;34m\u001b[0m\u001b[0;34m\u001b[0m\u001b[0m\n\u001b[0m\u001b[1;32m     14\u001b[0m                 \u001b[0mmost_steals\u001b[0m \u001b[0;34m=\u001b[0m \u001b[0mgame_dict\u001b[0m\u001b[0;34m[\u001b[0m\u001b[0mside\u001b[0m\u001b[0;34m]\u001b[0m\u001b[0;34m[\u001b[0m\u001b[0;34m'player'\u001b[0m\u001b[0;34m]\u001b[0m\u001b[0;34m[\u001b[0m\u001b[0;34m'steals'\u001b[0m\u001b[0;34m]\u001b[0m\u001b[0;34m\u001b[0m\u001b[0;34m\u001b[0m\u001b[0m\n\u001b[1;32m     15\u001b[0m                 \u001b[0mplayer_most_steals\u001b[0m \u001b[0;34m=\u001b[0m \u001b[0mplayer\u001b[0m\u001b[0;34m\u001b[0m\u001b[0;34m\u001b[0m\u001b[0m\n",
      "\u001b[0;31mKeyError\u001b[0m: 'steals'"
     ]
    }
   ],
   "source": [
    "long_name_steals_a_ton()"
   ]
  },
  {
   "cell_type": "code",
   "execution_count": null,
   "metadata": {},
   "outputs": [],
   "source": []
  }
 ],
 "metadata": {
  "kernelspec": {
   "display_name": "Python 3",
   "language": "python",
   "name": "python3"
  },
  "language_info": {
   "codemirror_mode": {
    "name": "ipython",
    "version": 3
   },
   "file_extension": ".py",
   "mimetype": "text/x-python",
   "name": "python",
   "nbconvert_exporter": "python",
   "pygments_lexer": "ipython3",
   "version": "3.7.3"
  }
 },
 "nbformat": 4,
 "nbformat_minor": 2
}
