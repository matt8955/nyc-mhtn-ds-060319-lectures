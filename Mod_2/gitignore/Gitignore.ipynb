{
 "cells": [
  {
   "cell_type": "markdown",
   "metadata": {},
   "source": [
    "<h1 style='text-align:center'>GITIGNORE</h1>"
   ]
  },
  {
   "cell_type": "markdown",
   "metadata": {},
   "source": [
    "<img src='images/ignore.gif'/>"
   ]
  },
  {
   "cell_type": "markdown",
   "metadata": {},
   "source": [
    "Git sees every file in your working copy as one of three things:\n",
    "\n",
    "1) <b>tracked</b> - a file which has been previously staged or committed;\n",
    "\n",
    "2) <b>untracked</b> - a file which has not been staged or committed; or\n",
    "\n",
    "3) <b>ignored</b> - a file which Git has been explicitly told to ignore.\n"
   ]
  },
  {
   "cell_type": "markdown",
   "metadata": {},
   "source": [
    "##### What kind of files would we want git to ignore? "
   ]
  },
  {
   "cell_type": "markdown",
   "metadata": {},
   "source": [
    "Ignored files are usually build artifacts and machine generated files or code you do not want the public to have. Some common examples are:\n",
    "\n",
    "-  .ipynb_checkpoints folder\n",
    "- .DS_Store\n",
    "- config files \n",
    "- files with API keys"
   ]
  },
  {
   "cell_type": "markdown",
   "metadata": {},
   "source": [
    "##### How do we tell Git to ignore files"
   ]
  },
  {
   "cell_type": "markdown",
   "metadata": {},
   "source": [
    "Using a .gitignore file\n",
    "\n",
    "1) Create a file called .gitignore \n",
    "\n",
    "2) On each line type what files you want Git to ignore"
   ]
  },
  {
   "cell_type": "code",
   "execution_count": 2,
   "metadata": {},
   "outputs": [
    {
     "ename": "SyntaxError",
     "evalue": "invalid syntax (<ipython-input-2-a84571273405>, line 5)",
     "output_type": "error",
     "traceback": [
      "\u001b[0;36m  File \u001b[0;32m\"<ipython-input-2-a84571273405>\"\u001b[0;36m, line \u001b[0;32m5\u001b[0m\n\u001b[0;31m    *.ipynb #ignores all files with .ipynb extension\u001b[0m\n\u001b[0m     ^\u001b[0m\n\u001b[0;31mSyntaxError\u001b[0m\u001b[0;31m:\u001b[0m invalid syntax\n"
     ]
    }
   ],
   "source": [
    "#Examples: \n",
    "\n",
    "index.ipynb #ignore any file called index.ipynb \n",
    "\n",
    "*.ipynb #ignores all files with .ipynb extension\n",
    "\n",
    ".ipynb_checkpoints/ #ignores all of the .ipynb_checkpoints directory\n",
    "\n"
   ]
  },
  {
   "cell_type": "markdown",
   "metadata": {},
   "source": [
    "##### Your Turn "
   ]
  },
  {
   "cell_type": "markdown",
   "metadata": {},
   "source": [
    "The following code exposes our API key, which in many cases we do want to share! Create a new file called api_key.py that stores the client_id and api_key variables. Then create a .gitignore file and add to it the file containing your api information. Lastly, push your code to your repository and check to see if you have successfully ignored your file. "
   ]
  },
  {
   "cell_type": "code",
   "execution_count": 3,
   "metadata": {},
   "outputs": [],
   "source": [
    "import requests\n",
    "import text"
   ]
  },
  {
   "cell_type": "code",
   "execution_count": 4,
   "metadata": {
    "scrolled": false
   },
   "outputs": [
    {
     "name": "stdout",
     "output_type": "stream",
     "text": [
      "<Response [200]>\n",
      "<class 'str'>\n",
      "{\"businesses\": [{\"id\": \"X0DNGKUQPjf0AfaXfXU2Qg\", \"alias\": \"kick-axe-throwing-brooklyn-2\", \"name\": \"Kick Axe Throwing\", \"image_url\": \"https://s3-media4.fl.yelpcdn.com/bphoto/Q12f9Wz9kiRN2Gzlg9gSfA/o.jpg\", \"is_closed\": false, \"url\": \"https://www.yelp.com/biz/kick-axe-throwing-brooklyn-2?adjust_creative=5senwnEqxeH82m5OZ1q-NQ&utm_campaign=yelp_api_v3&utm_medium=api_v3_business_search&utm_source=5senwnEqxeH82m5OZ1q-NQ\", \"review_count\": 285, \"categories\": [{\"alias\": \"axethrowing\", \"title\": \"Axe Throwing\"}], \"rating\": 4.5, \"coordinates\": {\"latitude\": 40.6790268, \"longitude\": -73.983077}, \"transactions\": [], \"location\": {\"address1\": \"622 Degraw St\", \"address2\": null, \"address3\": \"\", \"city\": \"Brooklyn\", \"zip_code\": \"11217\", \"country\": \"US\", \"state\": \"NY\", \"display_address\": [\"622 Degraw St\", \"Brooklyn, NY 11217\"]}, \"phone\": \"+18335425293\", \"display_phone\": \"(833) 542-5293\", \"distance\": 4733.616620254917}, {\"id\": \"4E6BkrEVf_0TjRVYE7gxeQ\", \"alias\": \"bury-the-hatchet-brooklyn-axe-throwing-brooklyn-2\", \"name\": \"Bury the Hatchet Brooklyn - Axe Throwing\", \"image_url\": \"https://s3-media3.fl.yelpcdn.com/bphoto/SH8_Nwmd13LkntwuzcEPeg/o.jpg\", \"is_closed\": false, \"url\": \"https://www.yelp.com/biz/bury-the-hatchet-brooklyn-axe-throwing-brooklyn-2?adjust_creative=5senwnEqxeH82m5OZ1q-NQ&utm_campaign=yelp_api_v3&utm_medium=api_v3_business_search&utm_source=5senwnEqxeH82m5OZ1q-NQ\", \"review_count\": 64, \"categories\": [{\"alias\": \"axethrowing\", \"title\": \"Axe Throwing\"}, {\"alias\": \"teambuilding\", \"title\": \"Team Building Activities\"}], \"rating\": 4.5, \"coordinates\": {\"latitude\": 40.7283195, \"longitude\": -73.9600679}, \"transactions\": [], \"location\": {\"address1\": \"25 Noble St\", \"address2\": null, \"address3\": \"\", \"city\": \"Brooklyn\", \"zip_code\": \"11222\", \"country\": \"US\", \"state\": \"NY\", \"display_address\": [\"25 Noble St\", \"Brooklyn, NY 11222\"]}, \"phone\": \"+19172439696\", \"display_phone\": \"(917) 243-9696\", \"distance\": 8652.979400045351}, {\"id\": \"PhEkSzYZHKYS7uyXePmkMw\", \"alias\": \"axes-and-arrows-long-island-city-2\", \"name\": \"Axes And Arrows\", \"image_url\": \"https://s3-media1.fl.yelpcdn.com/bphoto/gfBB-MNosVg6x6eOo8vQKQ/o.jpg\", \"is_closed\": false, \"url\": \"https://www.yelp.com/biz/axes-and-arrows-long-island-city-2?adjust_creative=5senwnEqxeH82m5OZ1q-NQ&utm_campaign=yelp_api_v3&utm_medium=api_v3_business_search&utm_source=5senwnEqxeH82m5OZ1q-NQ\", \"review_count\": 24, \"categories\": [{\"alias\": \"axethrowing\", \"title\": \"Axe Throwing\"}, {\"alias\": \"archery\", \"title\": \"Archery\"}], \"rating\": 5.0, \"coordinates\": {\"latitude\": 40.7425127, \"longitude\": -73.933816}, \"transactions\": [], \"location\": {\"address1\": \"47- 11 Van Dam St\", \"address2\": null, \"address3\": \"\", \"city\": \"Long Island City\", \"zip_code\": \"11101\", \"country\": \"US\", \"state\": \"NY\", \"display_address\": [\"47- 11 Van Dam St\", \"Long Island City, NY 11101\"]}, \"phone\": \"+17183619152\", \"display_phone\": \"(718) 361-9152\", \"distance\": 9996.588059135383}, {\"id\": \"yXOjBSwyqOKDY7oHx3z7HA\", \"alias\": \"tomahawks-jersey-city\", \"name\": \"Tomahawks\", \"image_url\": \"https://s3-media1.fl.yelpcdn.com/bphoto/AcR-ExIWOWPNXRr6G5cGQw/o.jpg\", \"is_closed\": false, \"url\": \"https://www.yelp.com/biz/tomahawks-jersey-city?adjust_creative=5senwnEqxeH82m5OZ1q-NQ&utm_campaign=yelp_api_v3&utm_medium=api_v3_business_search&utm_source=5senwnEqxeH82m5OZ1q-NQ\", \"review_count\": 8, \"categories\": [{\"alias\": \"axethrowing\", \"title\": \"Axe Throwing\"}], \"rating\": 5.0, \"coordinates\": {\"latitude\": 40.7411216, \"longitude\": -74.0493572}, \"transactions\": [], \"location\": {\"address1\": \"7 Sherman Ave\", \"address2\": \"Fl 2\", \"address3\": \"\", \"city\": \"Jersey City\", \"zip_code\": \"07307\", \"country\": \"US\", \"state\": \"NJ\", \"display_address\": [\"7 Sherman Ave\", \"Fl 2\", \"Jersey City, NJ 07307\"]}, \"phone\": \"+12014209722\", \"display_phone\": \"(201) 420-9722\", \"distance\": 13556.0314007906}, {\"id\": \"xC9gtq17G9XU5d-yjkprfA\", \"alias\": \"bury-the-hatchet-paramus-axe-throwing-paramus-2\", \"name\": \"Bury the Hatchet Paramus - Axe Throwing\", \"image_url\": \"https://s3-media1.fl.yelpcdn.com/bphoto/eeb9wGekGAVdVF6KcLHgtw/o.jpg\", \"is_closed\": false, \"url\": \"https://www.yelp.com/biz/bury-the-hatchet-paramus-axe-throwing-paramus-2?adjust_creative=5senwnEqxeH82m5OZ1q-NQ&utm_campaign=yelp_api_v3&utm_medium=api_v3_business_search&utm_source=5senwnEqxeH82m5OZ1q-NQ\", \"review_count\": 72, \"categories\": [{\"alias\": \"axethrowing\", \"title\": \"Axe Throwing\"}], \"rating\": 4.5, \"coordinates\": {\"latitude\": 40.94936, \"longitude\": -74.068}, \"transactions\": [], \"location\": {\"address1\": \"49 E Midland Ave\", \"address2\": null, \"address3\": \"\", \"city\": \"Paramus\", \"zip_code\": \"07652\", \"country\": \"US\", \"state\": \"NJ\", \"display_address\": [\"49 E Midland Ave\", \"Paramus, NJ 07652\"]}, \"phone\": \"+12016883358\", \"display_phone\": \"(201) 688-3358\", \"distance\": 34723.273827788835}, {\"id\": \"wuy6jyi5cxm1pwnUTWyBLw\", \"alias\": \"stumpys-hatchet-house-fairfield-3\", \"name\": \"Stumpy's Hatchet House\", \"image_url\": \"https://s3-media1.fl.yelpcdn.com/bphoto/yKG858jIoenW0jLpq6Hg1A/o.jpg\", \"is_closed\": false, \"url\": \"https://www.yelp.com/biz/stumpys-hatchet-house-fairfield-3?adjust_creative=5senwnEqxeH82m5OZ1q-NQ&utm_campaign=yelp_api_v3&utm_medium=api_v3_business_search&utm_source=5senwnEqxeH82m5OZ1q-NQ\", \"review_count\": 35, \"categories\": [{\"alias\": \"axethrowing\", \"title\": \"Axe Throwing\"}, {\"alias\": \"recreation\", \"title\": \"Recreation Centers\"}], \"rating\": 5.0, \"coordinates\": {\"latitude\": 40.8822984, \"longitude\": -74.2943857}, \"transactions\": [], \"location\": {\"address1\": \"373 US-46 W\", \"address2\": \"Ste D140\", \"address3\": \"\", \"city\": \"Fairfield\", \"zip_code\": \"07004\", \"country\": \"US\", \"state\": \"NJ\", \"display_address\": [\"373 US-46 W\", \"Ste D140\", \"Fairfield, NJ 07004\"]}, \"phone\": \"+19737213120\", \"display_phone\": \"(973) 721-3120\", \"distance\": 39342.14271082957}, {\"id\": \"oKkn9nKh6jB-fsQIDbP4tQ\", \"alias\": \"bury-the-hatchet-matawan\", \"name\": \"Bury The Hatchet\", \"image_url\": \"https://s3-media1.fl.yelpcdn.com/bphoto/EsKEUTyvjjzdr6SzTzubSQ/o.jpg\", \"is_closed\": false, \"url\": \"https://www.yelp.com/biz/bury-the-hatchet-matawan?adjust_creative=5senwnEqxeH82m5OZ1q-NQ&utm_campaign=yelp_api_v3&utm_medium=api_v3_business_search&utm_source=5senwnEqxeH82m5OZ1q-NQ\", \"review_count\": 62, \"categories\": [{\"alias\": \"axethrowing\", \"title\": \"Axe Throwing\"}, {\"alias\": \"teambuilding\", \"title\": \"Team Building Activities\"}], \"rating\": 4.5, \"coordinates\": {\"latitude\": 40.4234040521118, \"longitude\": -74.2643531039357}, \"transactions\": [], \"location\": {\"address1\": \"419 Route 34\", \"address2\": \"\", \"address3\": null, \"city\": \"Matawan\", \"zip_code\": \"07747\", \"country\": \"US\", \"state\": \"NJ\", \"display_address\": [\"419 Route 34\", \"Matawan, NJ 07747\"]}, \"phone\": \"+17329626284\", \"display_phone\": \"(732) 962-6284\", \"distance\": 37446.224760844736}, {\"id\": \"1BUoVTCYSpGfG0oobAr5Hg\", \"alias\": \"bury-the-hatchet-axe-throwing-bloomfield-bloomfield\", \"name\": \"Bury The Hatchet Axe Throwing- Bloomfield\", \"image_url\": \"https://s3-media3.fl.yelpcdn.com/bphoto/-4t0ZbFoPHUVBpbcESbMnQ/o.jpg\", \"is_closed\": false, \"url\": \"https://www.yelp.com/biz/bury-the-hatchet-axe-throwing-bloomfield-bloomfield?adjust_creative=5senwnEqxeH82m5OZ1q-NQ&utm_campaign=yelp_api_v3&utm_medium=api_v3_business_search&utm_source=5senwnEqxeH82m5OZ1q-NQ\", \"review_count\": 58, \"categories\": [{\"alias\": \"axethrowing\", \"title\": \"Axe Throwing\"}], \"rating\": 4.5, \"coordinates\": {\"latitude\": 40.79607, \"longitude\": -74.2003299}, \"transactions\": [], \"location\": {\"address1\": \"672 Bloomfield Ave\", \"address2\": null, \"address3\": \"\", \"city\": \"Bloomfield\", \"zip_code\": \"07003\", \"country\": \"US\", \"state\": \"NJ\", \"display_address\": [\"672 Bloomfield Ave\", \"Bloomfield, NJ 07003\"]}, \"phone\": \"+19738427725\", \"display_phone\": \"(973) 842-7725\", \"distance\": 27173.957270887662}, {\"id\": \"BOYnPH11OTCMPzxiPJXHpw\", \"alias\": \"hatchet-house-hackensack-3\", \"name\": \"Hatchet House\", \"image_url\": \"https://s3-media3.fl.yelpcdn.com/bphoto/1BayJ29kv-F92Dqy7uboDA/o.jpg\", \"is_closed\": false, \"url\": \"https://www.yelp.com/biz/hatchet-house-hackensack-3?adjust_creative=5senwnEqxeH82m5OZ1q-NQ&utm_campaign=yelp_api_v3&utm_medium=api_v3_business_search&utm_source=5senwnEqxeH82m5OZ1q-NQ\", \"review_count\": 1, \"categories\": [{\"alias\": \"axethrowing\", \"title\": \"Axe Throwing\"}, {\"alias\": \"venues\", \"title\": \"Venues & Event Spaces\"}, {\"alias\": \"paintball\", \"title\": \"Paintball\"}], \"rating\": 3.0, \"coordinates\": {\"latitude\": 40.8832357904038, \"longitude\": -74.0432552620768}, \"transactions\": [], \"location\": {\"address1\": \"157A Main St\", \"address2\": \"\", \"address3\": null, \"city\": \"Hackensack\", \"zip_code\": \"07601\", \"country\": \"US\", \"state\": \"NJ\", \"display_address\": [\"157A Main St\", \"Hackensack, NJ 07601\"]}, \"phone\": \"+18332934653\", \"display_phone\": \"(833) 293-4653\", \"distance\": 27125.32070094518}], \"total\": 13, \"region\": {\"center\": {\"longitude\": -73.93936157226562, \"latitude\": 40.652330148320374}}}\n"
     ]
    }
   ],
   "source": [
    "term = 'Axe Throwing'\n",
    "location = 'Brooklyn'\n",
    "SEARCH_LIMIT = 10\n",
    "\n",
    "url = 'https://api.yelp.com/v3/businesses/search'\n",
    "\n",
    "headers = {\n",
    "        'Authorization': f'Bearer {text.api_key}',\n",
    "    }\n",
    "\n",
    "url_params = {\n",
    "                'term': term.replace(' ', '+'),\n",
    "                'location': location.replace(' ', '+'),\n",
    "                'limit': SEARCH_LIMIT\n",
    "            }\n",
    "response = requests.get(url, headers=headers, params=url_params)\n",
    "print(response)\n",
    "print(type(response.text))\n",
    "print(response.text)"
   ]
  },
  {
   "cell_type": "markdown",
   "metadata": {},
   "source": [
    "##### What happens if I add and commit a file I want to ignore? "
   ]
  },
  {
   "cell_type": "markdown",
   "metadata": {},
   "source": [
    "If it is only your latest commit  - you can use `git rm file_name.extension` \n",
    "\n",
    "To remove from all previous commits (if you realize too late) - `git filter-branch --tree-filter 'rm -rf file_name.extension' HEAD`"
   ]
  },
  {
   "cell_type": "markdown",
   "metadata": {},
   "source": [
    "More info on git filter-branch : https://dalibornasevic.com/posts/2-permanently-remove-files-and-folders-from-a-git-repository"
   ]
  }
 ],
 "metadata": {
  "kernelspec": {
   "display_name": "Python 3",
   "language": "python",
   "name": "python3"
  },
  "language_info": {
   "codemirror_mode": {
    "name": "ipython",
    "version": 3
   },
   "file_extension": ".py",
   "mimetype": "text/x-python",
   "name": "python",
   "nbconvert_exporter": "python",
   "pygments_lexer": "ipython3",
   "version": "3.7.3"
  }
 },
 "nbformat": 4,
 "nbformat_minor": 2
}
