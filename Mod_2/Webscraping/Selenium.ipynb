{
 "cells": [
  {
   "cell_type": "code",
   "execution_count": 35,
   "metadata": {},
   "outputs": [
    {
     "name": "stdout",
     "output_type": "stream",
     "text": [
      "Requirement already satisfied: selenium in /anaconda3/lib/python3.6/site-packages (3.141.0)\n",
      "Requirement already satisfied: urllib3 in /anaconda3/lib/python3.6/site-packages (from selenium) (1.24.2)\n"
     ]
    }
   ],
   "source": [
    "!pip install selenium"
   ]
  },
  {
   "cell_type": "code",
   "execution_count": 36,
   "metadata": {},
   "outputs": [],
   "source": [
    "!open .\n",
    "#webdriver should be in the same folder"
   ]
  },
  {
   "cell_type": "code",
   "execution_count": 37,
   "metadata": {},
   "outputs": [],
   "source": [
    "from selenium import webdriver\n",
    "from selenium.webdriver.common.keys import Keys\n",
    "from selenium.webdriver.common.action_chains import ActionChains\n",
    "import time"
   ]
  },
  {
   "cell_type": "code",
   "execution_count": 38,
   "metadata": {},
   "outputs": [],
   "source": [
    "url = 'https://www.seamless.com/'"
   ]
  },
  {
   "cell_type": "code",
   "execution_count": 39,
   "metadata": {},
   "outputs": [],
   "source": [
    "addresses = ['11 broadway new york']"
   ]
  },
  {
   "cell_type": "code",
   "execution_count": 41,
   "metadata": {},
   "outputs": [],
   "source": [
    "driver = webdriver.Chrome('./chromedriver')\n",
    "driver.get(url)\n",
    "time.sleep(2)\n",
    "#find the search feature\n",
    "searchbox = driver.find_element_by_class_name(\"addressInput-textInput\")"
   ]
  },
  {
   "cell_type": "code",
   "execution_count": 47,
   "metadata": {},
   "outputs": [],
   "source": [
    "searchbox = driver.find_element_by_class_name(\"addressInput-textInput\")\n",
    "time.sleep(1)\n",
    "searchbox.send_keys(addresses[0])\n",
    "searchbox.send_keys(Keys.ENTER)"
   ]
  },
  {
   "cell_type": "code",
   "execution_count": 44,
   "metadata": {},
   "outputs": [
    {
     "data": {
      "text/plain": [
       "<selenium.webdriver.remote.webelement.WebElement (session=\"986a268eb96ac4d25a0f75ebc9b0434d\", element=\"0.683404513840107-2\")>"
      ]
     },
     "execution_count": 44,
     "metadata": {},
     "output_type": "execute_result"
    }
   ],
   "source": [
    "searchbox"
   ]
  },
  {
   "cell_type": "code",
   "execution_count": 58,
   "metadata": {},
   "outputs": [],
   "source": [
    "restaurants = driver.find_elements_by_class_name('s-card')"
   ]
  },
  {
   "cell_type": "code",
   "execution_count": null,
   "metadata": {},
   "outputs": [],
   "source": [
    "# if this doesn't work, use action chains\n",
    "# https://stackoverflow.com/questions/20316864/how-to-perform-right-click-using-selenium-chromedriver"
   ]
  },
  {
   "cell_type": "code",
   "execution_count": null,
   "metadata": {},
   "outputs": [],
   "source": [
    "# actionChains = ActionChains(driver)\n",
    "# actionChains.context_click(element).perform()"
   ]
  },
  {
   "cell_type": "code",
   "execution_count": null,
   "metadata": {},
   "outputs": [],
   "source": []
  },
  {
   "cell_type": "code",
   "execution_count": 59,
   "metadata": {},
   "outputs": [
    {
     "data": {
      "text/plain": [
       "[<selenium.webdriver.remote.webelement.WebElement (session=\"986a268eb96ac4d25a0f75ebc9b0434d\", element=\"0.683404513840107-4\")>,\n",
       " <selenium.webdriver.remote.webelement.WebElement (session=\"986a268eb96ac4d25a0f75ebc9b0434d\", element=\"0.683404513840107-5\")>,\n",
       " <selenium.webdriver.remote.webelement.WebElement (session=\"986a268eb96ac4d25a0f75ebc9b0434d\", element=\"0.683404513840107-6\")>,\n",
       " <selenium.webdriver.remote.webelement.WebElement (session=\"986a268eb96ac4d25a0f75ebc9b0434d\", element=\"0.683404513840107-7\")>,\n",
       " <selenium.webdriver.remote.webelement.WebElement (session=\"986a268eb96ac4d25a0f75ebc9b0434d\", element=\"0.683404513840107-8\")>,\n",
       " <selenium.webdriver.remote.webelement.WebElement (session=\"986a268eb96ac4d25a0f75ebc9b0434d\", element=\"0.683404513840107-9\")>,\n",
       " <selenium.webdriver.remote.webelement.WebElement (session=\"986a268eb96ac4d25a0f75ebc9b0434d\", element=\"0.683404513840107-10\")>]"
      ]
     },
     "execution_count": 59,
     "metadata": {},
     "output_type": "execute_result"
    }
   ],
   "source": [
    "restaurants"
   ]
  },
  {
   "cell_type": "code",
   "execution_count": 57,
   "metadata": {},
   "outputs": [
    {
     "data": {
      "text/plain": [
       "20"
      ]
     },
     "execution_count": 57,
     "metadata": {},
     "output_type": "execute_result"
    }
   ],
   "source": [
    "len(restaurants)"
   ]
  },
  {
   "cell_type": "markdown",
   "metadata": {},
   "source": [
    "note \"element\" vs \"elements\" in method names"
   ]
  },
  {
   "cell_type": "code",
   "execution_count": 60,
   "metadata": {},
   "outputs": [
    {
     "data": {
      "text/plain": [
       "[['Poke Bowl',\n",
       "  'Hawaiian, Lunch Specials',\n",
       "  '25–35 mins',\n",
       "  '$0 min',\n",
       "  '774 ratings',\n",
       "  '$10 off',\n",
       "  'Spend $50+'],\n",
       " ['Davidovich @ Blue Moon',\n",
       "  'Bakery, Coffee and Tea',\n",
       "  '30–40 mins',\n",
       "  '$0 min',\n",
       "  '7 ratings',\n",
       "  '25% off',\n",
       "  'Until 8:00pm'],\n",
       " ['Canal Iconic Magazines, Cafe & Deli',\n",
       "  'Bagels, Breakfast...',\n",
       "  '25–35 mins',\n",
       "  '$0 min',\n",
       "  '163 ratings',\n",
       "  '$10 off',\n",
       "  'Spend $95+'],\n",
       " ['Sheezan Restaurant',\n",
       "  'Indian, Pakistani',\n",
       "  '25–35 mins',\n",
       "  '$0 min',\n",
       "  'Not enough ratings',\n",
       "  '$5 off',\n",
       "  'First order only'],\n",
       " ['Westville Wall Street',\n",
       "  'American, Chicken...',\n",
       "  '55–65 mins',\n",
       "  '$12 min',\n",
       "  '2491 ratings',\n",
       "  '$5 off',\n",
       "  'First order only'],\n",
       " ['Poke Green',\n",
       "  'Asian, Hawaiian...',\n",
       "  '35–45 mins',\n",
       "  '$10 min',\n",
       "  '425 ratings',\n",
       "  'Free delivery',\n",
       "  'First order only'],\n",
       " [\"Old Xi'an Delicacy\",\n",
       "  'Asian, Chicken...',\n",
       "  '30–40 mins',\n",
       "  '$0 min',\n",
       "  '457 ratings',\n",
       "  '$5 off',\n",
       "  'Spend $50+']]"
      ]
     },
     "execution_count": 60,
     "metadata": {},
     "output_type": "execute_result"
    }
   ],
   "source": [
    "[restaurant.text.split('\\n') for restaurant in restaurants]"
   ]
  },
  {
   "cell_type": "markdown",
   "metadata": {},
   "source": [
    "# Let's Get The Links Too"
   ]
  },
  {
   "cell_type": "code",
   "execution_count": 61,
   "metadata": {},
   "outputs": [
    {
     "data": {
      "text/plain": [
       "selenium.webdriver.remote.webelement.WebElement"
      ]
     },
     "execution_count": 61,
     "metadata": {},
     "output_type": "execute_result"
    }
   ],
   "source": [
    "#we still have all the restaurants\n",
    "type(restaurants[0])"
   ]
  },
  {
   "cell_type": "code",
   "execution_count": 62,
   "metadata": {},
   "outputs": [
    {
     "name": "stdout",
     "output_type": "stream",
     "text": [
      "https://www.seamless.com/menu/poke-bowl-104-fulton-st-new-york/456074\n",
      "https://www.seamless.com/menu/davidovich--blue-moon-100-orchard-st-new-york/1152980\n",
      "https://www.seamless.com/menu/canal-iconic-magazines-cafe--deli-385-canal-st-new-york/298951\n",
      "https://www.seamless.com/menu/sheezan-restaurant-183-church-st-new-york/1237998\n",
      "https://www.seamless.com/menu/westville-wall-street-110-wall-st-new-york/425978\n",
      "https://www.seamless.com/menu/poke-green-275-greenwich-st-frnt-5-new-york/535259\n",
      "https://www.seamless.com/menu/old-xian-delicacy-164-pearl-st-ste-10-new-york/1000410\n"
     ]
    }
   ],
   "source": [
    "for r in restaurants:\n",
    "    print(r.find_element_by_class_name('restaurant-name').get_attribute('href'))"
   ]
  },
  {
   "cell_type": "code",
   "execution_count": 23,
   "metadata": {},
   "outputs": [],
   "source": [
    "#get one of the menus"
   ]
  },
  {
   "cell_type": "code",
   "execution_count": 63,
   "metadata": {},
   "outputs": [],
   "source": [
    "restaurants[0].click()"
   ]
  },
  {
   "cell_type": "code",
   "execution_count": 70,
   "metadata": {},
   "outputs": [],
   "source": [
    "menu_items =  driver.find_elements_by_class_name('menuItem')"
   ]
  },
  {
   "cell_type": "code",
   "execution_count": 71,
   "metadata": {},
   "outputs": [
    {
     "data": {
      "text/plain": [
       "[<selenium.webdriver.remote.webelement.WebElement (session=\"986a268eb96ac4d25a0f75ebc9b0434d\", element=\"0.683404513840107-54\")>,\n",
       " <selenium.webdriver.remote.webelement.WebElement (session=\"986a268eb96ac4d25a0f75ebc9b0434d\", element=\"0.683404513840107-55\")>,\n",
       " <selenium.webdriver.remote.webelement.WebElement (session=\"986a268eb96ac4d25a0f75ebc9b0434d\", element=\"0.683404513840107-56\")>,\n",
       " <selenium.webdriver.remote.webelement.WebElement (session=\"986a268eb96ac4d25a0f75ebc9b0434d\", element=\"0.683404513840107-57\")>,\n",
       " <selenium.webdriver.remote.webelement.WebElement (session=\"986a268eb96ac4d25a0f75ebc9b0434d\", element=\"0.683404513840107-58\")>,\n",
       " <selenium.webdriver.remote.webelement.WebElement (session=\"986a268eb96ac4d25a0f75ebc9b0434d\", element=\"0.683404513840107-59\")>,\n",
       " <selenium.webdriver.remote.webelement.WebElement (session=\"986a268eb96ac4d25a0f75ebc9b0434d\", element=\"0.683404513840107-60\")>,\n",
       " <selenium.webdriver.remote.webelement.WebElement (session=\"986a268eb96ac4d25a0f75ebc9b0434d\", element=\"0.683404513840107-61\")>,\n",
       " <selenium.webdriver.remote.webelement.WebElement (session=\"986a268eb96ac4d25a0f75ebc9b0434d\", element=\"0.683404513840107-62\")>,\n",
       " <selenium.webdriver.remote.webelement.WebElement (session=\"986a268eb96ac4d25a0f75ebc9b0434d\", element=\"0.683404513840107-63\")>,\n",
       " <selenium.webdriver.remote.webelement.WebElement (session=\"986a268eb96ac4d25a0f75ebc9b0434d\", element=\"0.683404513840107-64\")>,\n",
       " <selenium.webdriver.remote.webelement.WebElement (session=\"986a268eb96ac4d25a0f75ebc9b0434d\", element=\"0.683404513840107-65\")>,\n",
       " <selenium.webdriver.remote.webelement.WebElement (session=\"986a268eb96ac4d25a0f75ebc9b0434d\", element=\"0.683404513840107-66\")>,\n",
       " <selenium.webdriver.remote.webelement.WebElement (session=\"986a268eb96ac4d25a0f75ebc9b0434d\", element=\"0.683404513840107-67\")>,\n",
       " <selenium.webdriver.remote.webelement.WebElement (session=\"986a268eb96ac4d25a0f75ebc9b0434d\", element=\"0.683404513840107-68\")>,\n",
       " <selenium.webdriver.remote.webelement.WebElement (session=\"986a268eb96ac4d25a0f75ebc9b0434d\", element=\"0.683404513840107-69\")>,\n",
       " <selenium.webdriver.remote.webelement.WebElement (session=\"986a268eb96ac4d25a0f75ebc9b0434d\", element=\"0.683404513840107-70\")>,\n",
       " <selenium.webdriver.remote.webelement.WebElement (session=\"986a268eb96ac4d25a0f75ebc9b0434d\", element=\"0.683404513840107-71\")>,\n",
       " <selenium.webdriver.remote.webelement.WebElement (session=\"986a268eb96ac4d25a0f75ebc9b0434d\", element=\"0.683404513840107-72\")>,\n",
       " <selenium.webdriver.remote.webelement.WebElement (session=\"986a268eb96ac4d25a0f75ebc9b0434d\", element=\"0.683404513840107-73\")>,\n",
       " <selenium.webdriver.remote.webelement.WebElement (session=\"986a268eb96ac4d25a0f75ebc9b0434d\", element=\"0.683404513840107-74\")>,\n",
       " <selenium.webdriver.remote.webelement.WebElement (session=\"986a268eb96ac4d25a0f75ebc9b0434d\", element=\"0.683404513840107-75\")>,\n",
       " <selenium.webdriver.remote.webelement.WebElement (session=\"986a268eb96ac4d25a0f75ebc9b0434d\", element=\"0.683404513840107-76\")>,\n",
       " <selenium.webdriver.remote.webelement.WebElement (session=\"986a268eb96ac4d25a0f75ebc9b0434d\", element=\"0.683404513840107-77\")>,\n",
       " <selenium.webdriver.remote.webelement.WebElement (session=\"986a268eb96ac4d25a0f75ebc9b0434d\", element=\"0.683404513840107-78\")>,\n",
       " <selenium.webdriver.remote.webelement.WebElement (session=\"986a268eb96ac4d25a0f75ebc9b0434d\", element=\"0.683404513840107-79\")>,\n",
       " <selenium.webdriver.remote.webelement.WebElement (session=\"986a268eb96ac4d25a0f75ebc9b0434d\", element=\"0.683404513840107-80\")>,\n",
       " <selenium.webdriver.remote.webelement.WebElement (session=\"986a268eb96ac4d25a0f75ebc9b0434d\", element=\"0.683404513840107-81\")>,\n",
       " <selenium.webdriver.remote.webelement.WebElement (session=\"986a268eb96ac4d25a0f75ebc9b0434d\", element=\"0.683404513840107-82\")>,\n",
       " <selenium.webdriver.remote.webelement.WebElement (session=\"986a268eb96ac4d25a0f75ebc9b0434d\", element=\"0.683404513840107-83\")>,\n",
       " <selenium.webdriver.remote.webelement.WebElement (session=\"986a268eb96ac4d25a0f75ebc9b0434d\", element=\"0.683404513840107-84\")>,\n",
       " <selenium.webdriver.remote.webelement.WebElement (session=\"986a268eb96ac4d25a0f75ebc9b0434d\", element=\"0.683404513840107-85\")>]"
      ]
     },
     "execution_count": 71,
     "metadata": {},
     "output_type": "execute_result"
    }
   ],
   "source": [
    "menu_items"
   ]
  },
  {
   "cell_type": "code",
   "execution_count": 1,
   "metadata": {},
   "outputs": [],
   "source": [
    "#let's scroll to the last menu item"
   ]
  },
  {
   "cell_type": "markdown",
   "metadata": {},
   "source": [
    "step 1: get coordinates"
   ]
  },
  {
   "cell_type": "code",
   "execution_count": 67,
   "metadata": {},
   "outputs": [
    {
     "data": {
      "text/plain": [
       "<selenium.webdriver.remote.webelement.WebElement (session=\"986a268eb96ac4d25a0f75ebc9b0434d\", element=\"0.683404513840107-53\")>"
      ]
     },
     "execution_count": 67,
     "metadata": {},
     "output_type": "execute_result"
    }
   ],
   "source": [
    "menu_items[-1]"
   ]
  },
  {
   "cell_type": "markdown",
   "metadata": {},
   "source": [
    "step 2: scroll there"
   ]
  },
  {
   "cell_type": "code",
   "execution_count": 72,
   "metadata": {},
   "outputs": [],
   "source": [
    "actions = ActionChains(driver)\n",
    "actions.move_to_element(menu_items[-1]).perform()"
   ]
  },
  {
   "cell_type": "code",
   "execution_count": 74,
   "metadata": {},
   "outputs": [],
   "source": [
    "actions.context_click(menu_items[-1]).perform()"
   ]
  },
  {
   "cell_type": "code",
   "execution_count": null,
   "metadata": {},
   "outputs": [],
   "source": []
  },
  {
   "cell_type": "code",
   "execution_count": null,
   "metadata": {},
   "outputs": [],
   "source": []
  },
  {
   "cell_type": "code",
   "execution_count": 75,
   "metadata": {},
   "outputs": [],
   "source": [
    "url = 'https://www.reddit.com/r/self'\n",
    "driver.get(url)"
   ]
  },
  {
   "cell_type": "code",
   "execution_count": 85,
   "metadata": {},
   "outputs": [],
   "source": [
    "posts = driver.find_element_by_class_name('rpBJOHq2PR60pnwJlUyP0')"
   ]
  },
  {
   "cell_type": "code",
   "execution_count": 86,
   "metadata": {},
   "outputs": [],
   "source": [
    "all_posts = posts.find_elements_by_tag_name('div')"
   ]
  },
  {
   "cell_type": "code",
   "execution_count": 92,
   "metadata": {},
   "outputs": [],
   "source": [
    "actions = ActionChains(driver)\n",
    "actions.move_to_element(all_posts[0]).perform()"
   ]
  },
  {
   "cell_type": "code",
   "execution_count": 93,
   "metadata": {},
   "outputs": [],
   "source": [
    "all_posts[0].click()"
   ]
  },
  {
   "cell_type": "code",
   "execution_count": 107,
   "metadata": {},
   "outputs": [],
   "source": [
    "upvote_arrows = driver.find_elements_by_class_name('icon-upvote')"
   ]
  },
  {
   "cell_type": "code",
   "execution_count": 108,
   "metadata": {},
   "outputs": [
    {
     "data": {
      "text/plain": [
       "[<selenium.webdriver.remote.webelement.WebElement (session=\"986a268eb96ac4d25a0f75ebc9b0434d\", element=\"0.3785867446605691-856\")>,\n",
       " <selenium.webdriver.remote.webelement.WebElement (session=\"986a268eb96ac4d25a0f75ebc9b0434d\", element=\"0.3785867446605691-857\")>,\n",
       " <selenium.webdriver.remote.webelement.WebElement (session=\"986a268eb96ac4d25a0f75ebc9b0434d\", element=\"0.3785867446605691-858\")>,\n",
       " <selenium.webdriver.remote.webelement.WebElement (session=\"986a268eb96ac4d25a0f75ebc9b0434d\", element=\"0.3785867446605691-859\")>,\n",
       " <selenium.webdriver.remote.webelement.WebElement (session=\"986a268eb96ac4d25a0f75ebc9b0434d\", element=\"0.3785867446605691-860\")>,\n",
       " <selenium.webdriver.remote.webelement.WebElement (session=\"986a268eb96ac4d25a0f75ebc9b0434d\", element=\"0.3785867446605691-861\")>,\n",
       " <selenium.webdriver.remote.webelement.WebElement (session=\"986a268eb96ac4d25a0f75ebc9b0434d\", element=\"0.3785867446605691-862\")>,\n",
       " <selenium.webdriver.remote.webelement.WebElement (session=\"986a268eb96ac4d25a0f75ebc9b0434d\", element=\"0.3785867446605691-863\")>,\n",
       " <selenium.webdriver.remote.webelement.WebElement (session=\"986a268eb96ac4d25a0f75ebc9b0434d\", element=\"0.3785867446605691-864\")>,\n",
       " <selenium.webdriver.remote.webelement.WebElement (session=\"986a268eb96ac4d25a0f75ebc9b0434d\", element=\"0.3785867446605691-865\")>,\n",
       " <selenium.webdriver.remote.webelement.WebElement (session=\"986a268eb96ac4d25a0f75ebc9b0434d\", element=\"0.3785867446605691-866\")>,\n",
       " <selenium.webdriver.remote.webelement.WebElement (session=\"986a268eb96ac4d25a0f75ebc9b0434d\", element=\"0.3785867446605691-867\")>,\n",
       " <selenium.webdriver.remote.webelement.WebElement (session=\"986a268eb96ac4d25a0f75ebc9b0434d\", element=\"0.3785867446605691-868\")>,\n",
       " <selenium.webdriver.remote.webelement.WebElement (session=\"986a268eb96ac4d25a0f75ebc9b0434d\", element=\"0.3785867446605691-869\")>,\n",
       " <selenium.webdriver.remote.webelement.WebElement (session=\"986a268eb96ac4d25a0f75ebc9b0434d\", element=\"0.3785867446605691-870\")>,\n",
       " <selenium.webdriver.remote.webelement.WebElement (session=\"986a268eb96ac4d25a0f75ebc9b0434d\", element=\"0.3785867446605691-871\")>,\n",
       " <selenium.webdriver.remote.webelement.WebElement (session=\"986a268eb96ac4d25a0f75ebc9b0434d\", element=\"0.3785867446605691-872\")>,\n",
       " <selenium.webdriver.remote.webelement.WebElement (session=\"986a268eb96ac4d25a0f75ebc9b0434d\", element=\"0.3785867446605691-873\")>,\n",
       " <selenium.webdriver.remote.webelement.WebElement (session=\"986a268eb96ac4d25a0f75ebc9b0434d\", element=\"0.3785867446605691-874\")>,\n",
       " <selenium.webdriver.remote.webelement.WebElement (session=\"986a268eb96ac4d25a0f75ebc9b0434d\", element=\"0.3785867446605691-875\")>,\n",
       " <selenium.webdriver.remote.webelement.WebElement (session=\"986a268eb96ac4d25a0f75ebc9b0434d\", element=\"0.3785867446605691-876\")>,\n",
       " <selenium.webdriver.remote.webelement.WebElement (session=\"986a268eb96ac4d25a0f75ebc9b0434d\", element=\"0.3785867446605691-877\")>,\n",
       " <selenium.webdriver.remote.webelement.WebElement (session=\"986a268eb96ac4d25a0f75ebc9b0434d\", element=\"0.3785867446605691-878\")>,\n",
       " <selenium.webdriver.remote.webelement.WebElement (session=\"986a268eb96ac4d25a0f75ebc9b0434d\", element=\"0.3785867446605691-879\")>,\n",
       " <selenium.webdriver.remote.webelement.WebElement (session=\"986a268eb96ac4d25a0f75ebc9b0434d\", element=\"0.3785867446605691-880\")>,\n",
       " <selenium.webdriver.remote.webelement.WebElement (session=\"986a268eb96ac4d25a0f75ebc9b0434d\", element=\"0.3785867446605691-881\")>,\n",
       " <selenium.webdriver.remote.webelement.WebElement (session=\"986a268eb96ac4d25a0f75ebc9b0434d\", element=\"0.3785867446605691-882\")>,\n",
       " <selenium.webdriver.remote.webelement.WebElement (session=\"986a268eb96ac4d25a0f75ebc9b0434d\", element=\"0.3785867446605691-883\")>,\n",
       " <selenium.webdriver.remote.webelement.WebElement (session=\"986a268eb96ac4d25a0f75ebc9b0434d\", element=\"0.3785867446605691-884\")>,\n",
       " <selenium.webdriver.remote.webelement.WebElement (session=\"986a268eb96ac4d25a0f75ebc9b0434d\", element=\"0.3785867446605691-885\")>,\n",
       " <selenium.webdriver.remote.webelement.WebElement (session=\"986a268eb96ac4d25a0f75ebc9b0434d\", element=\"0.3785867446605691-886\")>,\n",
       " <selenium.webdriver.remote.webelement.WebElement (session=\"986a268eb96ac4d25a0f75ebc9b0434d\", element=\"0.3785867446605691-887\")>,\n",
       " <selenium.webdriver.remote.webelement.WebElement (session=\"986a268eb96ac4d25a0f75ebc9b0434d\", element=\"0.3785867446605691-888\")>,\n",
       " <selenium.webdriver.remote.webelement.WebElement (session=\"986a268eb96ac4d25a0f75ebc9b0434d\", element=\"0.3785867446605691-889\")>,\n",
       " <selenium.webdriver.remote.webelement.WebElement (session=\"986a268eb96ac4d25a0f75ebc9b0434d\", element=\"0.3785867446605691-890\")>,\n",
       " <selenium.webdriver.remote.webelement.WebElement (session=\"986a268eb96ac4d25a0f75ebc9b0434d\", element=\"0.3785867446605691-891\")>,\n",
       " <selenium.webdriver.remote.webelement.WebElement (session=\"986a268eb96ac4d25a0f75ebc9b0434d\", element=\"0.3785867446605691-892\")>,\n",
       " <selenium.webdriver.remote.webelement.WebElement (session=\"986a268eb96ac4d25a0f75ebc9b0434d\", element=\"0.3785867446605691-893\")>,\n",
       " <selenium.webdriver.remote.webelement.WebElement (session=\"986a268eb96ac4d25a0f75ebc9b0434d\", element=\"0.3785867446605691-894\")>,\n",
       " <selenium.webdriver.remote.webelement.WebElement (session=\"986a268eb96ac4d25a0f75ebc9b0434d\", element=\"0.3785867446605691-895\")>,\n",
       " <selenium.webdriver.remote.webelement.WebElement (session=\"986a268eb96ac4d25a0f75ebc9b0434d\", element=\"0.3785867446605691-896\")>,\n",
       " <selenium.webdriver.remote.webelement.WebElement (session=\"986a268eb96ac4d25a0f75ebc9b0434d\", element=\"0.3785867446605691-897\")>,\n",
       " <selenium.webdriver.remote.webelement.WebElement (session=\"986a268eb96ac4d25a0f75ebc9b0434d\", element=\"0.3785867446605691-898\")>,\n",
       " <selenium.webdriver.remote.webelement.WebElement (session=\"986a268eb96ac4d25a0f75ebc9b0434d\", element=\"0.3785867446605691-899\")>,\n",
       " <selenium.webdriver.remote.webelement.WebElement (session=\"986a268eb96ac4d25a0f75ebc9b0434d\", element=\"0.3785867446605691-900\")>,\n",
       " <selenium.webdriver.remote.webelement.WebElement (session=\"986a268eb96ac4d25a0f75ebc9b0434d\", element=\"0.3785867446605691-901\")>,\n",
       " <selenium.webdriver.remote.webelement.WebElement (session=\"986a268eb96ac4d25a0f75ebc9b0434d\", element=\"0.3785867446605691-902\")>,\n",
       " <selenium.webdriver.remote.webelement.WebElement (session=\"986a268eb96ac4d25a0f75ebc9b0434d\", element=\"0.3785867446605691-903\")>,\n",
       " <selenium.webdriver.remote.webelement.WebElement (session=\"986a268eb96ac4d25a0f75ebc9b0434d\", element=\"0.3785867446605691-904\")>,\n",
       " <selenium.webdriver.remote.webelement.WebElement (session=\"986a268eb96ac4d25a0f75ebc9b0434d\", element=\"0.3785867446605691-905\")>,\n",
       " <selenium.webdriver.remote.webelement.WebElement (session=\"986a268eb96ac4d25a0f75ebc9b0434d\", element=\"0.3785867446605691-906\")>,\n",
       " <selenium.webdriver.remote.webelement.WebElement (session=\"986a268eb96ac4d25a0f75ebc9b0434d\", element=\"0.3785867446605691-907\")>,\n",
       " <selenium.webdriver.remote.webelement.WebElement (session=\"986a268eb96ac4d25a0f75ebc9b0434d\", element=\"0.3785867446605691-908\")>,\n",
       " <selenium.webdriver.remote.webelement.WebElement (session=\"986a268eb96ac4d25a0f75ebc9b0434d\", element=\"0.3785867446605691-909\")>,\n",
       " <selenium.webdriver.remote.webelement.WebElement (session=\"986a268eb96ac4d25a0f75ebc9b0434d\", element=\"0.3785867446605691-910\")>]"
      ]
     },
     "execution_count": 108,
     "metadata": {},
     "output_type": "execute_result"
    }
   ],
   "source": [
    "upvote_arrows"
   ]
  },
  {
   "cell_type": "code",
   "execution_count": 96,
   "metadata": {},
   "outputs": [
    {
     "ename": "WebDriverException",
     "evalue": "Message: unknown error: Element <i class=\"icon icon-upvote _2Jxk822qXs4DaXwsN7yyHA\"></i> is not clickable at point (45, 251). Other element would receive the click: <div class=\"_29IbETWb5VVDcfk_-GumWz \" id=\"overlayScrollContainer\">...</div>\n  (Session info: chrome=73.0.3683.103)\n  (Driver info: chromedriver=73.0.3683.68 (47787ec04b6e38e22703e856e101e840b65afe72),platform=Mac OS X 10.13.6 x86_64)\n",
     "output_type": "error",
     "traceback": [
      "\u001b[0;31m---------------------------------------------------------------------------\u001b[0m",
      "\u001b[0;31mWebDriverException\u001b[0m                        Traceback (most recent call last)",
      "\u001b[0;32m<ipython-input-96-fc5010548312>\u001b[0m in \u001b[0;36m<module>\u001b[0;34m\u001b[0m\n\u001b[1;32m      1\u001b[0m \u001b[0;32mfor\u001b[0m \u001b[0mup\u001b[0m \u001b[0;32min\u001b[0m \u001b[0mupvote_arrows\u001b[0m\u001b[0;34m:\u001b[0m\u001b[0;34m\u001b[0m\u001b[0;34m\u001b[0m\u001b[0m\n\u001b[0;32m----> 2\u001b[0;31m     \u001b[0mup\u001b[0m\u001b[0;34m.\u001b[0m\u001b[0mclick\u001b[0m\u001b[0;34m(\u001b[0m\u001b[0;34m)\u001b[0m\u001b[0;34m\u001b[0m\u001b[0;34m\u001b[0m\u001b[0m\n\u001b[0m",
      "\u001b[0;32m/anaconda3/lib/python3.6/site-packages/selenium/webdriver/remote/webelement.py\u001b[0m in \u001b[0;36mclick\u001b[0;34m(self)\u001b[0m\n\u001b[1;32m     78\u001b[0m     \u001b[0;32mdef\u001b[0m \u001b[0mclick\u001b[0m\u001b[0;34m(\u001b[0m\u001b[0mself\u001b[0m\u001b[0;34m)\u001b[0m\u001b[0;34m:\u001b[0m\u001b[0;34m\u001b[0m\u001b[0;34m\u001b[0m\u001b[0m\n\u001b[1;32m     79\u001b[0m         \u001b[0;34m\"\"\"Clicks the element.\"\"\"\u001b[0m\u001b[0;34m\u001b[0m\u001b[0;34m\u001b[0m\u001b[0m\n\u001b[0;32m---> 80\u001b[0;31m         \u001b[0mself\u001b[0m\u001b[0;34m.\u001b[0m\u001b[0m_execute\u001b[0m\u001b[0;34m(\u001b[0m\u001b[0mCommand\u001b[0m\u001b[0;34m.\u001b[0m\u001b[0mCLICK_ELEMENT\u001b[0m\u001b[0;34m)\u001b[0m\u001b[0;34m\u001b[0m\u001b[0;34m\u001b[0m\u001b[0m\n\u001b[0m\u001b[1;32m     81\u001b[0m \u001b[0;34m\u001b[0m\u001b[0m\n\u001b[1;32m     82\u001b[0m     \u001b[0;32mdef\u001b[0m \u001b[0msubmit\u001b[0m\u001b[0;34m(\u001b[0m\u001b[0mself\u001b[0m\u001b[0;34m)\u001b[0m\u001b[0;34m:\u001b[0m\u001b[0;34m\u001b[0m\u001b[0;34m\u001b[0m\u001b[0m\n",
      "\u001b[0;32m/anaconda3/lib/python3.6/site-packages/selenium/webdriver/remote/webelement.py\u001b[0m in \u001b[0;36m_execute\u001b[0;34m(self, command, params)\u001b[0m\n\u001b[1;32m    631\u001b[0m             \u001b[0mparams\u001b[0m \u001b[0;34m=\u001b[0m \u001b[0;34m{\u001b[0m\u001b[0;34m}\u001b[0m\u001b[0;34m\u001b[0m\u001b[0;34m\u001b[0m\u001b[0m\n\u001b[1;32m    632\u001b[0m         \u001b[0mparams\u001b[0m\u001b[0;34m[\u001b[0m\u001b[0;34m'id'\u001b[0m\u001b[0;34m]\u001b[0m \u001b[0;34m=\u001b[0m \u001b[0mself\u001b[0m\u001b[0;34m.\u001b[0m\u001b[0m_id\u001b[0m\u001b[0;34m\u001b[0m\u001b[0;34m\u001b[0m\u001b[0m\n\u001b[0;32m--> 633\u001b[0;31m         \u001b[0;32mreturn\u001b[0m \u001b[0mself\u001b[0m\u001b[0;34m.\u001b[0m\u001b[0m_parent\u001b[0m\u001b[0;34m.\u001b[0m\u001b[0mexecute\u001b[0m\u001b[0;34m(\u001b[0m\u001b[0mcommand\u001b[0m\u001b[0;34m,\u001b[0m \u001b[0mparams\u001b[0m\u001b[0;34m)\u001b[0m\u001b[0;34m\u001b[0m\u001b[0;34m\u001b[0m\u001b[0m\n\u001b[0m\u001b[1;32m    634\u001b[0m \u001b[0;34m\u001b[0m\u001b[0m\n\u001b[1;32m    635\u001b[0m     \u001b[0;32mdef\u001b[0m \u001b[0mfind_element\u001b[0m\u001b[0;34m(\u001b[0m\u001b[0mself\u001b[0m\u001b[0;34m,\u001b[0m \u001b[0mby\u001b[0m\u001b[0;34m=\u001b[0m\u001b[0mBy\u001b[0m\u001b[0;34m.\u001b[0m\u001b[0mID\u001b[0m\u001b[0;34m,\u001b[0m \u001b[0mvalue\u001b[0m\u001b[0;34m=\u001b[0m\u001b[0;32mNone\u001b[0m\u001b[0;34m)\u001b[0m\u001b[0;34m:\u001b[0m\u001b[0;34m\u001b[0m\u001b[0;34m\u001b[0m\u001b[0m\n",
      "\u001b[0;32m/anaconda3/lib/python3.6/site-packages/selenium/webdriver/remote/webdriver.py\u001b[0m in \u001b[0;36mexecute\u001b[0;34m(self, driver_command, params)\u001b[0m\n\u001b[1;32m    319\u001b[0m         \u001b[0mresponse\u001b[0m \u001b[0;34m=\u001b[0m \u001b[0mself\u001b[0m\u001b[0;34m.\u001b[0m\u001b[0mcommand_executor\u001b[0m\u001b[0;34m.\u001b[0m\u001b[0mexecute\u001b[0m\u001b[0;34m(\u001b[0m\u001b[0mdriver_command\u001b[0m\u001b[0;34m,\u001b[0m \u001b[0mparams\u001b[0m\u001b[0;34m)\u001b[0m\u001b[0;34m\u001b[0m\u001b[0;34m\u001b[0m\u001b[0m\n\u001b[1;32m    320\u001b[0m         \u001b[0;32mif\u001b[0m \u001b[0mresponse\u001b[0m\u001b[0;34m:\u001b[0m\u001b[0;34m\u001b[0m\u001b[0;34m\u001b[0m\u001b[0m\n\u001b[0;32m--> 321\u001b[0;31m             \u001b[0mself\u001b[0m\u001b[0;34m.\u001b[0m\u001b[0merror_handler\u001b[0m\u001b[0;34m.\u001b[0m\u001b[0mcheck_response\u001b[0m\u001b[0;34m(\u001b[0m\u001b[0mresponse\u001b[0m\u001b[0;34m)\u001b[0m\u001b[0;34m\u001b[0m\u001b[0;34m\u001b[0m\u001b[0m\n\u001b[0m\u001b[1;32m    322\u001b[0m             response['value'] = self._unwrap_value(\n\u001b[1;32m    323\u001b[0m                 response.get('value', None))\n",
      "\u001b[0;32m/anaconda3/lib/python3.6/site-packages/selenium/webdriver/remote/errorhandler.py\u001b[0m in \u001b[0;36mcheck_response\u001b[0;34m(self, response)\u001b[0m\n\u001b[1;32m    240\u001b[0m                 \u001b[0malert_text\u001b[0m \u001b[0;34m=\u001b[0m \u001b[0mvalue\u001b[0m\u001b[0;34m[\u001b[0m\u001b[0;34m'alert'\u001b[0m\u001b[0;34m]\u001b[0m\u001b[0;34m.\u001b[0m\u001b[0mget\u001b[0m\u001b[0;34m(\u001b[0m\u001b[0;34m'text'\u001b[0m\u001b[0;34m)\u001b[0m\u001b[0;34m\u001b[0m\u001b[0;34m\u001b[0m\u001b[0m\n\u001b[1;32m    241\u001b[0m             \u001b[0;32mraise\u001b[0m \u001b[0mexception_class\u001b[0m\u001b[0;34m(\u001b[0m\u001b[0mmessage\u001b[0m\u001b[0;34m,\u001b[0m \u001b[0mscreen\u001b[0m\u001b[0;34m,\u001b[0m \u001b[0mstacktrace\u001b[0m\u001b[0;34m,\u001b[0m \u001b[0malert_text\u001b[0m\u001b[0;34m)\u001b[0m\u001b[0;34m\u001b[0m\u001b[0;34m\u001b[0m\u001b[0m\n\u001b[0;32m--> 242\u001b[0;31m         \u001b[0;32mraise\u001b[0m \u001b[0mexception_class\u001b[0m\u001b[0;34m(\u001b[0m\u001b[0mmessage\u001b[0m\u001b[0;34m,\u001b[0m \u001b[0mscreen\u001b[0m\u001b[0;34m,\u001b[0m \u001b[0mstacktrace\u001b[0m\u001b[0;34m)\u001b[0m\u001b[0;34m\u001b[0m\u001b[0;34m\u001b[0m\u001b[0m\n\u001b[0m\u001b[1;32m    243\u001b[0m \u001b[0;34m\u001b[0m\u001b[0m\n\u001b[1;32m    244\u001b[0m     \u001b[0;32mdef\u001b[0m \u001b[0m_value_or_default\u001b[0m\u001b[0;34m(\u001b[0m\u001b[0mself\u001b[0m\u001b[0;34m,\u001b[0m \u001b[0mobj\u001b[0m\u001b[0;34m,\u001b[0m \u001b[0mkey\u001b[0m\u001b[0;34m,\u001b[0m \u001b[0mdefault\u001b[0m\u001b[0;34m)\u001b[0m\u001b[0;34m:\u001b[0m\u001b[0;34m\u001b[0m\u001b[0;34m\u001b[0m\u001b[0m\n",
      "\u001b[0;31mWebDriverException\u001b[0m: Message: unknown error: Element <i class=\"icon icon-upvote _2Jxk822qXs4DaXwsN7yyHA\"></i> is not clickable at point (45, 251). Other element would receive the click: <div class=\"_29IbETWb5VVDcfk_-GumWz \" id=\"overlayScrollContainer\">...</div>\n  (Session info: chrome=73.0.3683.103)\n  (Driver info: chromedriver=73.0.3683.68 (47787ec04b6e38e22703e856e101e840b65afe72),platform=Mac OS X 10.13.6 x86_64)\n"
     ]
    }
   ],
   "source": [
    "for up in upvote_arrows:\n",
    "    up.click()"
   ]
  },
  {
   "cell_type": "code",
   "execution_count": 109,
   "metadata": {},
   "outputs": [],
   "source": [
    "u = upvote_arrows[0]"
   ]
  },
  {
   "cell_type": "code",
   "execution_count": 111,
   "metadata": {},
   "outputs": [
    {
     "data": {
      "text/plain": [
       "{'x': 311, 'y': 241}"
      ]
     },
     "execution_count": 111,
     "metadata": {},
     "output_type": "execute_result"
    }
   ],
   "source": [
    "u.location"
   ]
  },
  {
   "cell_type": "code",
   "execution_count": 115,
   "metadata": {},
   "outputs": [
    {
     "ename": "WebDriverException",
     "evalue": "Message: chrome not reachable\n  (Session info: chrome=73.0.3683.103)\n  (Driver info: chromedriver=73.0.3683.68 (47787ec04b6e38e22703e856e101e840b65afe72),platform=Mac OS X 10.13.6 x86_64)\n",
     "output_type": "error",
     "traceback": [
      "\u001b[0;31m---------------------------------------------------------------------------\u001b[0m",
      "\u001b[0;31mWebDriverException\u001b[0m                        Traceback (most recent call last)",
      "\u001b[0;32m<ipython-input-115-a09d608226d1>\u001b[0m in \u001b[0;36m<module>\u001b[0;34m\u001b[0m\n\u001b[1;32m      1\u001b[0m \u001b[0;31m#scroll down by 100 pixels:\u001b[0m\u001b[0;34m\u001b[0m\u001b[0;34m\u001b[0m\u001b[0;34m\u001b[0m\u001b[0m\n\u001b[1;32m      2\u001b[0m \u001b[0;32mfor\u001b[0m \u001b[0mi\u001b[0m \u001b[0;32min\u001b[0m \u001b[0mrange\u001b[0m\u001b[0;34m(\u001b[0m\u001b[0;36m100\u001b[0m\u001b[0;34m)\u001b[0m\u001b[0;34m:\u001b[0m\u001b[0;34m\u001b[0m\u001b[0;34m\u001b[0m\u001b[0m\n\u001b[0;32m----> 3\u001b[0;31m     \u001b[0mdriver\u001b[0m\u001b[0;34m.\u001b[0m\u001b[0mexecute_script\u001b[0m\u001b[0;34m(\u001b[0m\u001b[0;34m\"window.scrollBy(0,100);\"\u001b[0m\u001b[0;34m)\u001b[0m\u001b[0;34m\u001b[0m\u001b[0;34m\u001b[0m\u001b[0m\n\u001b[0m\u001b[1;32m      4\u001b[0m     \u001b[0mtime\u001b[0m\u001b[0;34m.\u001b[0m\u001b[0msleep\u001b[0m\u001b[0;34m(\u001b[0m\u001b[0;36m2\u001b[0m\u001b[0;34m)\u001b[0m\u001b[0;34m\u001b[0m\u001b[0;34m\u001b[0m\u001b[0m\n",
      "\u001b[0;32m/anaconda3/lib/python3.6/site-packages/selenium/webdriver/remote/webdriver.py\u001b[0m in \u001b[0;36mexecute_script\u001b[0;34m(self, script, *args)\u001b[0m\n\u001b[1;32m    634\u001b[0m         return self.execute(command, {\n\u001b[1;32m    635\u001b[0m             \u001b[0;34m'script'\u001b[0m\u001b[0;34m:\u001b[0m \u001b[0mscript\u001b[0m\u001b[0;34m,\u001b[0m\u001b[0;34m\u001b[0m\u001b[0;34m\u001b[0m\u001b[0m\n\u001b[0;32m--> 636\u001b[0;31m             'args': converted_args})['value']\n\u001b[0m\u001b[1;32m    637\u001b[0m \u001b[0;34m\u001b[0m\u001b[0m\n\u001b[1;32m    638\u001b[0m     \u001b[0;32mdef\u001b[0m \u001b[0mexecute_async_script\u001b[0m\u001b[0;34m(\u001b[0m\u001b[0mself\u001b[0m\u001b[0;34m,\u001b[0m \u001b[0mscript\u001b[0m\u001b[0;34m,\u001b[0m \u001b[0;34m*\u001b[0m\u001b[0margs\u001b[0m\u001b[0;34m)\u001b[0m\u001b[0;34m:\u001b[0m\u001b[0;34m\u001b[0m\u001b[0;34m\u001b[0m\u001b[0m\n",
      "\u001b[0;32m/anaconda3/lib/python3.6/site-packages/selenium/webdriver/remote/webdriver.py\u001b[0m in \u001b[0;36mexecute\u001b[0;34m(self, driver_command, params)\u001b[0m\n\u001b[1;32m    319\u001b[0m         \u001b[0mresponse\u001b[0m \u001b[0;34m=\u001b[0m \u001b[0mself\u001b[0m\u001b[0;34m.\u001b[0m\u001b[0mcommand_executor\u001b[0m\u001b[0;34m.\u001b[0m\u001b[0mexecute\u001b[0m\u001b[0;34m(\u001b[0m\u001b[0mdriver_command\u001b[0m\u001b[0;34m,\u001b[0m \u001b[0mparams\u001b[0m\u001b[0;34m)\u001b[0m\u001b[0;34m\u001b[0m\u001b[0;34m\u001b[0m\u001b[0m\n\u001b[1;32m    320\u001b[0m         \u001b[0;32mif\u001b[0m \u001b[0mresponse\u001b[0m\u001b[0;34m:\u001b[0m\u001b[0;34m\u001b[0m\u001b[0;34m\u001b[0m\u001b[0m\n\u001b[0;32m--> 321\u001b[0;31m             \u001b[0mself\u001b[0m\u001b[0;34m.\u001b[0m\u001b[0merror_handler\u001b[0m\u001b[0;34m.\u001b[0m\u001b[0mcheck_response\u001b[0m\u001b[0;34m(\u001b[0m\u001b[0mresponse\u001b[0m\u001b[0;34m)\u001b[0m\u001b[0;34m\u001b[0m\u001b[0;34m\u001b[0m\u001b[0m\n\u001b[0m\u001b[1;32m    322\u001b[0m             response['value'] = self._unwrap_value(\n\u001b[1;32m    323\u001b[0m                 response.get('value', None))\n",
      "\u001b[0;32m/anaconda3/lib/python3.6/site-packages/selenium/webdriver/remote/errorhandler.py\u001b[0m in \u001b[0;36mcheck_response\u001b[0;34m(self, response)\u001b[0m\n\u001b[1;32m    240\u001b[0m                 \u001b[0malert_text\u001b[0m \u001b[0;34m=\u001b[0m \u001b[0mvalue\u001b[0m\u001b[0;34m[\u001b[0m\u001b[0;34m'alert'\u001b[0m\u001b[0;34m]\u001b[0m\u001b[0;34m.\u001b[0m\u001b[0mget\u001b[0m\u001b[0;34m(\u001b[0m\u001b[0;34m'text'\u001b[0m\u001b[0;34m)\u001b[0m\u001b[0;34m\u001b[0m\u001b[0;34m\u001b[0m\u001b[0m\n\u001b[1;32m    241\u001b[0m             \u001b[0;32mraise\u001b[0m \u001b[0mexception_class\u001b[0m\u001b[0;34m(\u001b[0m\u001b[0mmessage\u001b[0m\u001b[0;34m,\u001b[0m \u001b[0mscreen\u001b[0m\u001b[0;34m,\u001b[0m \u001b[0mstacktrace\u001b[0m\u001b[0;34m,\u001b[0m \u001b[0malert_text\u001b[0m\u001b[0;34m)\u001b[0m\u001b[0;34m\u001b[0m\u001b[0;34m\u001b[0m\u001b[0m\n\u001b[0;32m--> 242\u001b[0;31m         \u001b[0;32mraise\u001b[0m \u001b[0mexception_class\u001b[0m\u001b[0;34m(\u001b[0m\u001b[0mmessage\u001b[0m\u001b[0;34m,\u001b[0m \u001b[0mscreen\u001b[0m\u001b[0;34m,\u001b[0m \u001b[0mstacktrace\u001b[0m\u001b[0;34m)\u001b[0m\u001b[0;34m\u001b[0m\u001b[0;34m\u001b[0m\u001b[0m\n\u001b[0m\u001b[1;32m    243\u001b[0m \u001b[0;34m\u001b[0m\u001b[0m\n\u001b[1;32m    244\u001b[0m     \u001b[0;32mdef\u001b[0m \u001b[0m_value_or_default\u001b[0m\u001b[0;34m(\u001b[0m\u001b[0mself\u001b[0m\u001b[0;34m,\u001b[0m \u001b[0mobj\u001b[0m\u001b[0;34m,\u001b[0m \u001b[0mkey\u001b[0m\u001b[0;34m,\u001b[0m \u001b[0mdefault\u001b[0m\u001b[0;34m)\u001b[0m\u001b[0;34m:\u001b[0m\u001b[0;34m\u001b[0m\u001b[0;34m\u001b[0m\u001b[0m\n",
      "\u001b[0;31mWebDriverException\u001b[0m: Message: chrome not reachable\n  (Session info: chrome=73.0.3683.103)\n  (Driver info: chromedriver=73.0.3683.68 (47787ec04b6e38e22703e856e101e840b65afe72),platform=Mac OS X 10.13.6 x86_64)\n"
     ]
    }
   ],
   "source": [
    "#scroll down by 100 pixels:\n",
    "for i in range(100):\n",
    "    driver.execute_script(\"window.scrollBy(0,100);\")\n",
    "    time.sleep(2)"
   ]
  },
  {
   "cell_type": "code",
   "execution_count": null,
   "metadata": {},
   "outputs": [],
   "source": []
  },
  {
   "cell_type": "code",
   "execution_count": null,
   "metadata": {},
   "outputs": [],
   "source": []
  }
 ],
 "metadata": {
  "kernelspec": {
   "display_name": "Python 3",
   "language": "python",
   "name": "python3"
  },
  "language_info": {
   "codemirror_mode": {
    "name": "ipython",
    "version": 3
   },
   "file_extension": ".py",
   "mimetype": "text/x-python",
   "name": "python",
   "nbconvert_exporter": "python",
   "pygments_lexer": "ipython3",
   "version": "3.7.3"
  }
 },
 "nbformat": 4,
 "nbformat_minor": 4
}
